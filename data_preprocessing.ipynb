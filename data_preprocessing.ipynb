{
 "cells": [
  {
   "cell_type": "code",
   "execution_count": null,
   "id": "0b3c35a0",
   "metadata": {},
   "outputs": [],
   "source": [
    "import pandas as pd\n",
    "import numpy as np\n",
    "import collections\n",
    "\n",
    "# identify types of SNP; label homozygous as 1, heterozygous as 2, variant homozygous as 3 \n",
    "for snp in snps:\n",
    "    genotype_count = data[snp].value_counts().to_dict()\n",
    "    genotypes = data[snp].unique()\n",
    "    n_genotypes = len(genotypes)\n",
    "    genotypes = sorted(genotypes)\n",
    "    \n",
    "    # combine frequency of heterozygous \n",
    "    if n_genotypes > 3:\n",
    "        het1 = genotype_count[genotypes[1]]\n",
    "        het2 = genotype_count[genotypes[2]]\n",
    "        hetero = het1 + het2\n",
    "        genotype_count[genotypes[1]] = hetero\n",
    "        del genotype_count[genotypes[2]]\n",
    "        genotypes.remove(genotypes[2])\n",
    "    \n",
    "    # calculate genotype frequency\n",
    "    for key in genotype_count:\n",
    "        genotype_count[key] = genotype_count[key]/n_samples\n",
    "    genotype_count = collections.OrderedDict(sorted(genotype_count.items()))\n",
    "    \n",
    "    # assign label\n",
    "    if len(genotypes) == 3:\n",
    "        # calculate allele frequency to identify dominant and recessive alleles\n",
    "        allele_A = genotype_count[genotypes[0]] + (genotype_count[genotypes[1]] * 0.5)\n",
    "        allele_B = genotype_count[genotypes[2]] + (genotype_count[genotypes[1]] * 0.5)\n",
    "        if allele_B > allele_A:\n",
    "            encode = np.array([3,2,1])\n",
    "        else:\n",
    "            encode = np.array([1,2,3])\n",
    "    elif len(genotypes) == 2:\n",
    "        encode = nparray([1,2])\n",
    "    else:\n",
    "        encode = np.array([1])\n",
    "    \n",
    "    genotype_dict = dict(zip(genotypes, encode))\n",
    "    data[snp] = data[snp].map(genotype_dict)\n",
    "\n",
    "# replace null as 0\n",
    "data = data.replace(np.NaN, 0)\n",
    "\n",
    "outfile = 'encoded_snp.csv'\n",
    "data.to_csv(outfile, sep=' ')"
   ]
  }
 ],
 "metadata": {
  "kernelspec": {
   "display_name": "Python 3 (ipykernel)",
   "language": "python",
   "name": "python3"
  },
  "language_info": {
   "codemirror_mode": {
    "name": "ipython",
    "version": 3
   },
   "file_extension": ".py",
   "mimetype": "text/x-python",
   "name": "python",
   "nbconvert_exporter": "python",
   "pygments_lexer": "ipython3",
   "version": "3.9.7"
  }
 },
 "nbformat": 4,
 "nbformat_minor": 5
}
